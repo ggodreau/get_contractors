{
 "cells": [
  {
   "cell_type": "code",
   "execution_count": 1,
   "metadata": {},
   "outputs": [],
   "source": [
    "import pandas as pd"
   ]
  },
  {
   "cell_type": "code",
   "execution_count": 2,
   "metadata": {},
   "outputs": [],
   "source": [
    "m = pd.read_csv('./materials.txt')\n",
    "v = pd.read_csv('./vendors.txt')"
   ]
  },
  {
   "cell_type": "code",
   "execution_count": 3,
   "metadata": {},
   "outputs": [
    {
     "data": {
      "text/html": [
       "<div>\n",
       "<style scoped>\n",
       "    .dataframe tbody tr th:only-of-type {\n",
       "        vertical-align: middle;\n",
       "    }\n",
       "\n",
       "    .dataframe tbody tr th {\n",
       "        vertical-align: top;\n",
       "    }\n",
       "\n",
       "    .dataframe thead th {\n",
       "        text-align: right;\n",
       "    }\n",
       "</style>\n",
       "<table border=\"1\" class=\"dataframe\">\n",
       "  <thead>\n",
       "    <tr style=\"text-align: right;\">\n",
       "      <th></th>\n",
       "      <th>vendor_id</th>\n",
       "      <th>industry</th>\n",
       "      <th>international</th>\n",
       "      <th>hourly_rate</th>\n",
       "      <th>min_contract_value</th>\n",
       "    </tr>\n",
       "  </thead>\n",
       "  <tbody>\n",
       "    <tr>\n",
       "      <th>0</th>\n",
       "      <td>0</td>\n",
       "      <td>electrical</td>\n",
       "      <td>y</td>\n",
       "      <td>$140</td>\n",
       "      <td>$25000</td>\n",
       "    </tr>\n",
       "    <tr>\n",
       "      <th>1</th>\n",
       "      <td>2</td>\n",
       "      <td>plumbing</td>\n",
       "      <td>y</td>\n",
       "      <td>$200</td>\n",
       "      <td>$20000</td>\n",
       "    </tr>\n",
       "    <tr>\n",
       "      <th>2</th>\n",
       "      <td>5</td>\n",
       "      <td>concrete</td>\n",
       "      <td>y</td>\n",
       "      <td>$175</td>\n",
       "      <td>$200000</td>\n",
       "    </tr>\n",
       "    <tr>\n",
       "      <th>3</th>\n",
       "      <td>3</td>\n",
       "      <td>finish</td>\n",
       "      <td>y</td>\n",
       "      <td>$375</td>\n",
       "      <td>$100000</td>\n",
       "    </tr>\n",
       "    <tr>\n",
       "      <th>4</th>\n",
       "      <td>7</td>\n",
       "      <td>general supply</td>\n",
       "      <td>y</td>\n",
       "      <td>$150</td>\n",
       "      <td>$50000</td>\n",
       "    </tr>\n",
       "  </tbody>\n",
       "</table>\n",
       "</div>"
      ],
      "text/plain": [
       "   vendor_id        industry international hourly_rate min_contract_value\n",
       "0          0      electrical             y        $140             $25000\n",
       "1          2        plumbing             y        $200             $20000\n",
       "2          5        concrete             y        $175            $200000\n",
       "3          3          finish             y        $375            $100000\n",
       "4          7  general supply             y        $150             $50000"
      ]
     },
     "execution_count": 3,
     "metadata": {},
     "output_type": "execute_result"
    }
   ],
   "source": [
    "m.head()"
   ]
  },
  {
   "cell_type": "code",
   "execution_count": 4,
   "metadata": {},
   "outputs": [
    {
     "data": {
      "text/html": [
       "<div>\n",
       "<style scoped>\n",
       "    .dataframe tbody tr th:only-of-type {\n",
       "        vertical-align: middle;\n",
       "    }\n",
       "\n",
       "    .dataframe tbody tr th {\n",
       "        vertical-align: top;\n",
       "    }\n",
       "\n",
       "    .dataframe thead th {\n",
       "        text-align: right;\n",
       "    }\n",
       "</style>\n",
       "<table border=\"1\" class=\"dataframe\">\n",
       "  <thead>\n",
       "    <tr style=\"text-align: right;\">\n",
       "      <th></th>\n",
       "      <th>vendor_id</th>\n",
       "      <th>name</th>\n",
       "      <th>address</th>\n",
       "      <th>phone</th>\n",
       "    </tr>\n",
       "  </thead>\n",
       "  <tbody>\n",
       "    <tr>\n",
       "      <th>0</th>\n",
       "      <td>0</td>\n",
       "      <td>Volt Inc</td>\n",
       "      <td>1234 5th street; Los Angeles; CA; 90210</td>\n",
       "      <td>213-884-6500</td>\n",
       "    </tr>\n",
       "    <tr>\n",
       "      <th>1</th>\n",
       "      <td>2</td>\n",
       "      <td>Flush it</td>\n",
       "      <td>134 6th street; williamsburgh; PA; 06623</td>\n",
       "      <td>604-252-4000</td>\n",
       "    </tr>\n",
       "    <tr>\n",
       "      <th>2</th>\n",
       "      <td>5</td>\n",
       "      <td>Theoretical</td>\n",
       "      <td>34 3rd street; harrisburgh; PA; 06623</td>\n",
       "      <td>604-252-9020</td>\n",
       "    </tr>\n",
       "    <tr>\n",
       "      <th>3</th>\n",
       "      <td>3</td>\n",
       "      <td>supreme</td>\n",
       "      <td>1234 commonwealth ave ; Boston; MA; 06675</td>\n",
       "      <td>607-332-5553</td>\n",
       "    </tr>\n",
       "    <tr>\n",
       "      <th>4</th>\n",
       "      <td>7</td>\n",
       "      <td>supply general</td>\n",
       "      <td>15 State street; Detroit; MI; 21123</td>\n",
       "      <td>452-540-3999</td>\n",
       "    </tr>\n",
       "  </tbody>\n",
       "</table>\n",
       "</div>"
      ],
      "text/plain": [
       "   vendor_id             name                                    address  \\\n",
       "0          0         Volt Inc    1234 5th street; Los Angeles; CA; 90210   \n",
       "1          2         Flush it   134 6th street; williamsburgh; PA; 06623   \n",
       "2          5      Theoretical      34 3rd street; harrisburgh; PA; 06623   \n",
       "3          3          supreme  1234 commonwealth ave ; Boston; MA; 06675   \n",
       "4          7  supply general         15 State street; Detroit; MI; 21123   \n",
       "\n",
       "           phone  \n",
       "0   213-884-6500  \n",
       "1   604-252-4000  \n",
       "2   604-252-9020  \n",
       "3   607-332-5553  \n",
       "4   452-540-3999  "
      ]
     },
     "execution_count": 4,
     "metadata": {},
     "output_type": "execute_result"
    }
   ],
   "source": [
    "v.head()"
   ]
  },
  {
   "cell_type": "code",
   "execution_count": 73,
   "metadata": {},
   "outputs": [],
   "source": [
    "def get_contractor(industry, hourly_rate):\n",
    "    '''\n",
    "    Returns info from materials.txt and vendors.txt\n",
    "    files (hard coded) that meet the industry and\n",
    "    hourly_rate criterion.\n",
    "    \n",
    "    Inputs:\n",
    "    =======\n",
    "    industry : string, desired industry (i.e. 'electrical', 'plumbing')\n",
    "    hourly_rate : float, maximum hourly_rate to be returned\n",
    "    \n",
    "    Returns:\n",
    "    ========\n",
    "    prints to stdout, row(s) information meeting input criterion\n",
    "    \n",
    "    '''     \n",
    "    # read in (statically) the materials and vendors csv files\n",
    "    m = pd.read_csv('./materials.txt')\n",
    "    v = pd.read_csv('./vendors.txt')\n",
    "    \n",
    "    # inner join the two files on vendor_id\n",
    "    mv = pd.merge(m, v, how='inner', left_on='vendor_id', right_on='vendor_id')\n",
    "    \n",
    "    # create 'hourly_rate_parsed' column, which is the\n",
    "    # float representation of 'hourly_rate'\n",
    "    # NOTE: this assumes hourly_rate ALWAYS has a leading '$'\n",
    "    mv['hourly_rate_parsed'] = mv['hourly_rate'].apply(lambda x: float(x[1:]))\n",
    "    \n",
    "    # could be cleaner, find a way to avoid duplication\n",
    "    if hourly_rate == None:\n",
    "        output_df = mv[ (mv['industry'] == industry) ][['name', 'address', 'phone']]\n",
    "        for row in output_df.values:\n",
    "            sep = ' '\n",
    "            print(sep.join(row))\n",
    "    else:\n",
    "        output_df = mv[ (mv['industry'] == industry) & (mv['hourly_rate_parsed'] < hourly_rate) ][['name', 'address', 'phone']]\n",
    "        for row in output_df.values:\n",
    "            sep = ' '\n",
    "            print(sep.join(row))"
   ]
  },
  {
   "cell_type": "code",
   "execution_count": 74,
   "metadata": {},
   "outputs": [
    {
     "name": "stdout",
     "output_type": "stream",
     "text": [
      "Volt Inc 1234 5th street; Los Angeles; CA; 90210  213-884-6500\n",
      "Bolt 4 12th street; williamsburgh; PA; 06623  604-252-4000\n"
     ]
    }
   ],
   "source": [
    "get_contractor('electrical', None)"
   ]
  },
  {
   "cell_type": "code",
   "execution_count": 75,
   "metadata": {},
   "outputs": [
    {
     "name": "stdout",
     "output_type": "stream",
     "text": [
      "free flow 24 5th street; williamsburgh; PA; 06623  604-252-4000\n"
     ]
    }
   ],
   "source": [
    "get_contractor('plumbing', 175)"
   ]
  }
 ],
 "metadata": {
  "kernelspec": {
   "display_name": "Python 3",
   "language": "python",
   "name": "python3"
  },
  "language_info": {
   "codemirror_mode": {
    "name": "ipython",
    "version": 3
   },
   "file_extension": ".py",
   "mimetype": "text/x-python",
   "name": "python",
   "nbconvert_exporter": "python",
   "pygments_lexer": "ipython3",
   "version": "3.6.6"
  }
 },
 "nbformat": 4,
 "nbformat_minor": 2
}
